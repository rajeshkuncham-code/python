{
 "cells": [
  {
   "cell_type": "markdown",
   "id": "2580e017-7b05-4f29-abfd-a4b56d5f3716",
   "metadata": {},
   "source": [
    "if condition1:\n",
    "   task1 block of code\n",
    "elif condition2:\n",
    "    task2 block of  code\n",
    "elif condition3:\n",
    "    task3 block of code\n",
    "else:\n",
    "    task4 block of code\n",
    "    .\n",
    "    .\n",
    "    .\n",
    "elif condition n:\n",
    "    task n\n",
    "else:\n",
    "    task4 block of code"
   ]
  },
  {
   "cell_type": "code",
   "execution_count": 47,
   "id": "f2b530f8-0e4e-4c54-9004-eed237024709",
   "metadata": {},
   "outputs": [
    {
     "name": "stdout",
     "output_type": "stream",
     "text": [
      "odd\n"
     ]
    }
   ],
   "source": [
    "x=9\n",
    "if x%2==0:\n",
    "    print(\"Even\")\n",
    "else:\n",
    "    print(\"odd\")\n",
    "\n"
   ]
  },
  {
   "cell_type": "code",
   "execution_count": 49,
   "id": "c95e8dfc-cb16-4668-a029-38d1c1e75f84",
   "metadata": {},
   "outputs": [
    {
     "data": {
      "text/plain": [
       "False"
      ]
     },
     "execution_count": 49,
     "metadata": {},
     "output_type": "execute_result"
    }
   ],
   "source": [
    "x%2==0"
   ]
  },
  {
   "cell_type": "code",
   "execution_count": 51,
   "id": "d98362fd-d3ca-40ea-bcf4-6c007fcc9b5e",
   "metadata": {},
   "outputs": [
    {
     "data": {
      "text/plain": [
       "18"
      ]
     },
     "execution_count": 51,
     "metadata": {},
     "output_type": "execute_result"
    }
   ],
   "source": [
    "x+9"
   ]
  },
  {
   "cell_type": "code",
   "execution_count": 45,
   "id": "0d0779d8-2305-4153-aa1a-058da7131d60",
   "metadata": {},
   "outputs": [
    {
     "name": "stdout",
     "output_type": "stream",
     "text": [
      "pos\n"
     ]
    }
   ],
   "source": [
    "x=5.8\n",
    "if x>0:\n",
    "    print('pos')\n",
    "elif x<0:\n",
    "    print('neg')\n",
    "else:\n",
    "    print('zero')"
   ]
  },
  {
   "cell_type": "code",
   "execution_count": 32,
   "id": "1863adc9-594a-437e-898d-4a215c0ae9e6",
   "metadata": {},
   "outputs": [
    {
     "name": "stdout",
     "output_type": "stream",
     "text": [
      "pos\n",
      "M\n"
     ]
    }
   ],
   "source": [
    "x=14\n",
    "if x>0:\n",
    "    print('pos')\n",
    "    if x>10:\n",
    "        print('M')\n",
    "    elif x>20:\n",
    "        print('P')\n",
    "    elif x<10:\n",
    "        print('K')\n",
    "    else: \n",
    "        print('T')\n",
    "elif x>0:\n",
    "    print(\"neg\")\n",
    "    if x<-20:\n",
    "        print(\"Q\")\n",
    "    elif x>-10:\n",
    "        print('C')\n",
    "    elif x>-30:\n",
    "        print('Z')\n",
    "else:\n",
    "    print('Zero')"
   ]
  },
  {
   "cell_type": "code",
   "execution_count": 63,
   "id": "bb769d0b-454f-45c4-937d-108f12405ef7",
   "metadata": {},
   "outputs": [
    {
     "name": "stdout",
     "output_type": "stream",
     "text": [
      "Yes\n"
     ]
    }
   ],
   "source": [
    "x='tiger'\n",
    "if x[0]=='t' or x[0]=='T':\n",
    "     print('Yes')\n",
    "else:\n",
    "     print('No')\n",
    "\n",
    "\n"
   ]
  },
  {
   "cell_type": "code",
   "execution_count": 75,
   "id": "6a687ff5-2eef-4314-b6d5-a9add6d8af36",
   "metadata": {},
   "outputs": [
    {
     "name": "stdout",
     "output_type": "stream",
     "text": [
      "yes\n"
     ]
    }
   ],
   "source": [
    "x= 'Telangana'\n",
    "if x[0]=='t' or x[0]=='T':\n",
    "    print('yes')\n",
    "else:\n",
    "    print('no')\n"
   ]
  },
  {
   "cell_type": "code",
   "execution_count": 81,
   "id": "ff274ac6-3554-4317-9328-b78d531fd407",
   "metadata": {},
   "outputs": [
    {
     "name": "stdout",
     "output_type": "stream",
     "text": [
      "pos\n"
     ]
    }
   ],
   "source": [
    "x=120\n",
    "if x>10:\n",
    "    print('pos')\n",
    "elif x<10:\n",
    "    print('neg')\n",
    "else:\n",
    "    print('zero')\n",
    "    \n",
    "    \n"
   ]
  },
  {
   "cell_type": "code",
   "execution_count": 93,
   "id": "1c40332b-c5c8-436d-8365-2ebef0ab936d",
   "metadata": {},
   "outputs": [
    {
     "name": "stdout",
     "output_type": "stream",
     "text": [
      "yes\n"
     ]
    }
   ],
   "source": [
    "x='has'\n",
    "if x[0]=='s' or x[0]=='S' or x[0]=='m' or x[0]=='M' or x==[0]=='h' or x[0]=='h':\n",
    "    print(\"yes\")\n",
    "else:\n",
    "    print(\"no\")\n"
   ]
  },
  {
   "cell_type": "code",
   "execution_count": 95,
   "id": "8a8a745d-7636-48f9-bdc5-ceba586975a5",
   "metadata": {},
   "outputs": [
    {
     "name": "stdout",
     "output_type": "stream",
     "text": [
      "yes\n"
     ]
    }
   ],
   "source": [
    "if x[0].lower() in ('s','m','h'):\n",
    "    print(\"yes\")\n",
    "else:\n",
    "    print(\"no\")"
   ]
  },
  {
   "cell_type": "code",
   "execution_count": null,
   "id": "866159ef-90a5-4a26-b3b9-cde0520a4052",
   "metadata": {},
   "outputs": [],
   "source": []
  }
 ],
 "metadata": {
  "kernelspec": {
   "display_name": "Python [conda env:base] *",
   "language": "python",
   "name": "conda-base-py"
  },
  "language_info": {
   "codemirror_mode": {
    "name": "ipython",
    "version": 3
   },
   "file_extension": ".py",
   "mimetype": "text/x-python",
   "name": "python",
   "nbconvert_exporter": "python",
   "pygments_lexer": "ipython3",
   "version": "3.12.7"
  }
 },
 "nbformat": 4,
 "nbformat_minor": 5
}
