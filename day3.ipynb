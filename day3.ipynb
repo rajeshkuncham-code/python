{
 "cells": [
  {
   "cell_type": "code",
   "execution_count": null,
   "id": "bb809053-480a-4e99-a2ca-fd4a84b6194a",
   "metadata": {},
   "outputs": [],
   "source": [
    "list tuple\n"
   ]
  },
  {
   "cell_type": "code",
   "execution_count": 1,
   "id": "9b54750c-51eb-4436-8274-e81d769e71c5",
   "metadata": {},
   "outputs": [
    {
     "data": {
      "text/plain": [
       "[23, 34, 56, 78, 90]"
      ]
     },
     "execution_count": 1,
     "metadata": {},
     "output_type": "execute_result"
    }
   ],
   "source": [
    "a=[23,34,56,78,90]\n",
    "a"
   ]
  },
  {
   "cell_type": "code",
   "execution_count": 5,
   "id": "447876a8-4760-4681-88e5-1db7d8ebbd4c",
   "metadata": {},
   "outputs": [
    {
     "data": {
      "text/plain": [
       "list"
      ]
     },
     "execution_count": 5,
     "metadata": {},
     "output_type": "execute_result"
    }
   ],
   "source": [
    "type(a)"
   ]
  },
  {
   "cell_type": "code",
   "execution_count": 21,
   "id": "0d902c30-ce2b-4ca0-9700-f2737194551b",
   "metadata": {},
   "outputs": [
    {
     "data": {
      "text/plain": [
       "['data', True, 80.34, 'Hyderbad', 45, 90, 16, False]"
      ]
     },
     "execution_count": 21,
     "metadata": {},
     "output_type": "execute_result"
    }
   ],
   "source": [
    "C=['data',True,80.34,'Hyderbad',45,90,16,False]\n",
    "C"
   ]
  },
  {
   "cell_type": "code",
   "execution_count": 25,
   "id": "7e07b1aa-1ac8-4a55-9506-07bae248e628",
   "metadata": {},
   "outputs": [
    {
     "data": {
      "text/plain": [
       "list"
      ]
     },
     "execution_count": 25,
     "metadata": {},
     "output_type": "execute_result"
    }
   ],
   "source": [
    "type(C)"
   ]
  },
  {
   "cell_type": "code",
   "execution_count": 27,
   "id": "f652aea9-deee-424f-aaac-0c0a7a2c1fdf",
   "metadata": {},
   "outputs": [
    {
     "data": {
      "text/plain": [
       "[2007, 'Hyderbad', 45, True, False, 78, 175, 34.9]"
      ]
     },
     "execution_count": 27,
     "metadata": {},
     "output_type": "execute_result"
    }
   ],
   "source": [
    "d=[2007,'Hyderbad',45,True,False,78,175,34.90]\n",
    "d"
   ]
  },
  {
   "cell_type": "code",
   "execution_count": 31,
   "id": "3def3ec7-d171-45b4-ab5f-18a03295decc",
   "metadata": {},
   "outputs": [
    {
     "data": {
      "text/plain": [
       "2007"
      ]
     },
     "execution_count": 31,
     "metadata": {},
     "output_type": "execute_result"
    }
   ],
   "source": [
    "d[0]      #0 is the index value"
   ]
  },
  {
   "cell_type": "code",
   "execution_count": 33,
   "id": "ffe9a056-c41a-48f0-8500-617ff935b6e6",
   "metadata": {},
   "outputs": [
    {
     "data": {
      "text/plain": [
       "'Hyderbad'"
      ]
     },
     "execution_count": 33,
     "metadata": {},
     "output_type": "execute_result"
    }
   ],
   "source": [
    "d[1]"
   ]
  },
  {
   "cell_type": "code",
   "execution_count": 37,
   "id": "3ee0ba0b-51df-4cd3-80b9-45ade5329825",
   "metadata": {},
   "outputs": [
    {
     "data": {
      "text/plain": [
       "(True, False, 78)"
      ]
     },
     "execution_count": 37,
     "metadata": {},
     "output_type": "execute_result"
    }
   ],
   "source": [
    "d[3],d[4],d[5]"
   ]
  },
  {
   "cell_type": "code",
   "execution_count": 50,
   "id": "4ea14cca-566f-45fd-bcde-e7655bd55e80",
   "metadata": {},
   "outputs": [
    {
     "data": {
      "text/plain": [
       "['Hyderbad', 45, True, False]"
      ]
     },
     "execution_count": 50,
     "metadata": {},
     "output_type": "execute_result"
    }
   ],
   "source": [
    "d[1:5]"
   ]
  },
  {
   "cell_type": "code",
   "execution_count": 56,
   "id": "1b1bed73-ada3-44d8-8ecf-08ae0d5739a0",
   "metadata": {},
   "outputs": [
    {
     "data": {
      "text/plain": [
       "[2007, 'Hyderbad', 45, True, False, 78, 175, 34.9]"
      ]
     },
     "execution_count": 56,
     "metadata": {},
     "output_type": "execute_result"
    }
   ],
   "source": [
    "d[0:8:1]"
   ]
  },
  {
   "cell_type": "code",
   "execution_count": null,
   "id": "d63874ad-b973-4497-81b4-616dc6bb7cac",
   "metadata": {},
   "outputs": [],
   "source": [
    "start : end : step # step random value"
   ]
  },
  {
   "cell_type": "code",
   "execution_count": 58,
   "id": "ea628347-61c9-4ea3-aae6-35e206acc3b4",
   "metadata": {},
   "outputs": [
    {
     "data": {
      "text/plain": [
       "False"
      ]
     },
     "execution_count": 58,
     "metadata": {},
     "output_type": "execute_result"
    }
   ],
   "source": [
    "d[-4]"
   ]
  },
  {
   "cell_type": "code",
   "execution_count": 60,
   "id": "e4acabb1-df41-4cce-b04e-fd3837d2a6e8",
   "metadata": {},
   "outputs": [
    {
     "data": {
      "text/plain": [
       "False"
      ]
     },
     "execution_count": 60,
     "metadata": {},
     "output_type": "execute_result"
    }
   ],
   "source": [
    "d[4]"
   ]
  },
  {
   "cell_type": "code",
   "execution_count": 62,
   "id": "761b042a-1db7-46a0-97b7-12c900b92fe4",
   "metadata": {},
   "outputs": [
    {
     "data": {
      "text/plain": [
       "78"
      ]
     },
     "execution_count": 62,
     "metadata": {},
     "output_type": "execute_result"
    }
   ],
   "source": [
    "d[-3]"
   ]
  },
  {
   "cell_type": "code",
   "execution_count": 64,
   "id": "11d5c009-66cd-4c5b-a8f1-21b868f76a27",
   "metadata": {},
   "outputs": [
    {
     "data": {
      "text/plain": [
       "True"
      ]
     },
     "execution_count": 64,
     "metadata": {},
     "output_type": "execute_result"
    }
   ],
   "source": [
    "d[3]"
   ]
  },
  {
   "cell_type": "code",
   "execution_count": 66,
   "id": "5f637f5d-f49d-414a-bff2-0bf3a3b5e97d",
   "metadata": {},
   "outputs": [
    {
     "data": {
      "text/plain": [
       "[False, True, 45, 'Hyderbad']"
      ]
     },
     "execution_count": 66,
     "metadata": {},
     "output_type": "execute_result"
    }
   ],
   "source": [
    "d[-4:-8:-1]"
   ]
  },
  {
   "cell_type": "code",
   "execution_count": 68,
   "id": "62065c15-8122-4b9a-89ba-45540770851d",
   "metadata": {},
   "outputs": [
    {
     "data": {
      "text/plain": [
       "['Hyderbad', 45, True, False]"
      ]
     },
     "execution_count": 68,
     "metadata": {},
     "output_type": "execute_result"
    }
   ],
   "source": [
    "d[1:5]"
   ]
  },
  {
   "cell_type": "code",
   "execution_count": 70,
   "id": "2a7041b5-b5d2-463c-b0b6-a5ecd6e48458",
   "metadata": {},
   "outputs": [
    {
     "data": {
      "text/plain": [
       "[2007, 'Hyderbad', 45, True, False, 78, 175, 34.9]"
      ]
     },
     "execution_count": 70,
     "metadata": {},
     "output_type": "execute_result"
    }
   ],
   "source": [
    "d"
   ]
  },
  {
   "cell_type": "code",
   "execution_count": 72,
   "id": "9643bede-8c85-4a99-ab3f-4828a5296bff",
   "metadata": {},
   "outputs": [
    {
     "data": {
      "text/plain": [
       "[]"
      ]
     },
     "execution_count": 72,
     "metadata": {},
     "output_type": "execute_result"
    }
   ],
   "source": [
    "d[6:2] #opposite direction"
   ]
  },
  {
   "cell_type": "code",
   "execution_count": 78,
   "id": "7b692263-1650-4c7f-b29f-e6389b6e7267",
   "metadata": {},
   "outputs": [
    {
     "data": {
      "text/plain": [
       "[175, 78, False, True]"
      ]
     },
     "execution_count": 78,
     "metadata": {},
     "output_type": "execute_result"
    }
   ],
   "source": [
    "d[6:2:-1]"
   ]
  },
  {
   "cell_type": "code",
   "execution_count": 80,
   "id": "d38fe6b5-813f-4b9f-b196-4612811fa5ff",
   "metadata": {},
   "outputs": [
    {
     "data": {
      "text/plain": [
       "2007"
      ]
     },
     "execution_count": 80,
     "metadata": {},
     "output_type": "execute_result"
    }
   ],
   "source": [
    "d[0]"
   ]
  },
  {
   "cell_type": "code",
   "execution_count": 82,
   "id": "ba58ef70-3ed3-4cdb-b062-e0f59c0dfe3d",
   "metadata": {},
   "outputs": [],
   "source": [
    "##list method"
   ]
  },
  {
   "cell_type": "code",
   "execution_count": 84,
   "id": "861d437a-0443-415c-ba03-a5841980faa3",
   "metadata": {},
   "outputs": [],
   "source": [
    "d.append(2004) #at last added"
   ]
  },
  {
   "cell_type": "code",
   "execution_count": 86,
   "id": "22b636d9-85cc-4947-ba83-d0407a836d34",
   "metadata": {},
   "outputs": [
    {
     "data": {
      "text/plain": [
       "[2007, 'Hyderbad', 45, True, False, 78, 175, 34.9, 2004]"
      ]
     },
     "execution_count": 86,
     "metadata": {},
     "output_type": "execute_result"
    }
   ],
   "source": [
    "d"
   ]
  },
  {
   "cell_type": "code",
   "execution_count": 88,
   "id": "7aaed774-4e37-46d4-bcb6-581b86f7fbbf",
   "metadata": {},
   "outputs": [],
   "source": [
    "d.insert(1,90)  # deleting and adding"
   ]
  },
  {
   "cell_type": "code",
   "execution_count": 90,
   "id": "f78f3f8e-d24f-48dd-81fd-2b1e7611db0e",
   "metadata": {},
   "outputs": [
    {
     "data": {
      "text/plain": [
       "[2007, 90, 'Hyderbad', 45, True, False, 78, 175, 34.9, 2004]"
      ]
     },
     "execution_count": 90,
     "metadata": {},
     "output_type": "execute_result"
    }
   ],
   "source": [
    "d"
   ]
  },
  {
   "cell_type": "code",
   "execution_count": 92,
   "id": "ff141cad-49f3-4dfa-ae90-ffed757e398d",
   "metadata": {},
   "outputs": [],
   "source": [
    "d.remove(2004) #deleted we mentioned vale"
   ]
  },
  {
   "cell_type": "code",
   "execution_count": 94,
   "id": "a246f928-62ea-4edb-a1bd-fbf6929781a5",
   "metadata": {},
   "outputs": [
    {
     "data": {
      "text/plain": [
       "[2007, 90, 'Hyderbad', 45, True, False, 78, 175, 34.9]"
      ]
     },
     "execution_count": 94,
     "metadata": {},
     "output_type": "execute_result"
    }
   ],
   "source": [
    "d"
   ]
  },
  {
   "cell_type": "code",
   "execution_count": 96,
   "id": "ed704478-41b8-45ee-b065-7bf92eac0d0f",
   "metadata": {},
   "outputs": [
    {
     "data": {
      "text/plain": [
       "78"
      ]
     },
     "execution_count": 96,
     "metadata": {},
     "output_type": "execute_result"
    }
   ],
   "source": [
    "d.pop(6)"
   ]
  },
  {
   "cell_type": "code",
   "execution_count": 98,
   "id": "99c79699-ce46-4256-8bff-43ba48f4191e",
   "metadata": {},
   "outputs": [
    {
     "data": {
      "text/plain": [
       "[2007, 90, 'Hyderbad', 45, True, False, 175, 34.9]"
      ]
     },
     "execution_count": 98,
     "metadata": {},
     "output_type": "execute_result"
    }
   ],
   "source": [
    "d"
   ]
  },
  {
   "cell_type": "code",
   "execution_count": 100,
   "id": "26f4243c-6f87-4059-a30a-a9fd4e142cd9",
   "metadata": {},
   "outputs": [
    {
     "data": {
      "text/plain": [
       "True"
      ]
     },
     "execution_count": 100,
     "metadata": {},
     "output_type": "execute_result"
    }
   ],
   "source": [
    "d.pop(4)"
   ]
  },
  {
   "cell_type": "code",
   "execution_count": 112,
   "id": "2eaa13b7-a871-4ff4-9c5e-f6795a9f54c7",
   "metadata": {},
   "outputs": [
    {
     "data": {
      "text/plain": [
       "list"
      ]
     },
     "execution_count": 112,
     "metadata": {},
     "output_type": "execute_result"
    }
   ],
   "source": [
    "type(d)"
   ]
  },
  {
   "cell_type": "code",
   "execution_count": 120,
   "id": "f0f638f0-eb6c-4327-830e-4dd85a9a012d",
   "metadata": {},
   "outputs": [],
   "source": [
    "d.extend([45,78,90,34])\n"
   ]
  },
  {
   "cell_type": "code",
   "execution_count": 122,
   "id": "2c91497d-e88b-4237-a584-829392ac5b93",
   "metadata": {},
   "outputs": [
    {
     "data": {
      "text/plain": [
       "[45, 78, 90, 34]"
      ]
     },
     "execution_count": 122,
     "metadata": {},
     "output_type": "execute_result"
    }
   ],
   "source": [
    "d"
   ]
  },
  {
   "cell_type": "code",
   "execution_count": null,
   "id": "001e71ce-c75d-4ed1-85d0-44643cf04bb4",
   "metadata": {},
   "outputs": [],
   "source": []
  }
 ],
 "metadata": {
  "kernelspec": {
   "display_name": "Python [conda env:base] *",
   "language": "python",
   "name": "conda-base-py"
  },
  "language_info": {
   "codemirror_mode": {
    "name": "ipython",
    "version": 3
   },
   "file_extension": ".py",
   "mimetype": "text/x-python",
   "name": "python",
   "nbconvert_exporter": "python",
   "pygments_lexer": "ipython3",
   "version": "3.12.7"
  }
 },
 "nbformat": 4,
 "nbformat_minor": 5
}
