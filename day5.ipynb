{
 "cells": [
  {
   "cell_type": "code",
   "execution_count": 1,
   "id": "436e5a96-6457-4ab1-b773-c0bfef89788a",
   "metadata": {},
   "outputs": [
    {
     "name": "stdout",
     "output_type": "stream",
     "text": [
      "yes\n",
      "yes\n",
      "yes\n",
      "yes\n",
      "yes\n"
     ]
    }
   ],
   "source": [
    "x=100\n",
    "while x<600:\n",
    "    print('yes')\n",
    "    x=x+100"
   ]
  },
  {
   "cell_type": "code",
   "execution_count": 3,
   "id": "59036ac8-e991-4869-8bc6-5d6b25b0af0d",
   "metadata": {},
   "outputs": [
    {
     "data": {
      "text/plain": [
       "[40, 20, 80, 50, 30, 60, 90]"
      ]
     },
     "execution_count": 3,
     "metadata": {},
     "output_type": "execute_result"
    }
   ],
   "source": [
    "dollars=[40,20,80,50,30,60,90]\n",
    "dollars"
   ]
  },
  {
   "cell_type": "code",
   "execution_count": 5,
   "id": "1fa73bd0-28c5-4eae-abd4-29aa3e673457",
   "metadata": {},
   "outputs": [
    {
     "data": {
      "text/plain": [
       "[40, 20, 80, 50, 30, 60, 90, 40, 20, 80, 50, 30, 60, 90]"
      ]
     },
     "execution_count": 5,
     "metadata": {},
     "output_type": "execute_result"
    }
   ],
   "source": [
    "dollars*2      #adding two times of data"
   ]
  },
  {
   "cell_type": "code",
   "execution_count": 13,
   "id": "d03e860c-a0cb-45ef-ae2e-26344280cce5",
   "metadata": {},
   "outputs": [],
   "source": [
    "inr=[]\n",
    "for i in dollars:\n",
    "    inr.append(i*20)"
   ]
  },
  {
   "cell_type": "raw",
   "id": "ccb6b054-694b-4b43-b211-e78dfe629051",
   "metadata": {},
   "source": [
    "inr"
   ]
  },
  {
   "cell_type": "code",
   "execution_count": 82,
   "id": "3760cc93-9abb-404a-b4bd-7d92181685cb",
   "metadata": {},
   "outputs": [
    {
     "data": {
      "text/plain": [
       "[31, 45, 66, 33, 90, 78, 67.87, 89, 93, 25, 59, 9, 81]"
      ]
     },
     "execution_count": 82,
     "metadata": {},
     "output_type": "execute_result"
    }
   ],
   "source": [
    "num1=[31,45,66,33,90,78,67.87,89,93,25,59,9,81]\n",
    "num1"
   ]
  },
  {
   "cell_type": "code",
   "execution_count": 5,
   "id": "1736fbd1-5260-446a-8618-41810a22bfbd",
   "metadata": {},
   "outputs": [
    {
     "name": "stdout",
     "output_type": "stream",
     "text": [
      "[66, 90, 78]\n",
      "[31, 45, 33, 67.87, 89, 93, 25, 59, 9, 81]\n"
     ]
    }
   ],
   "source": [
    "num1=[31,45,66,33,90,78,67.87,89,93,25,59,9,81]\n",
    "j=[]\n",
    "k=[]\n",
    "for i in num1:\n",
    "     if i%2==0:\n",
    "        j.append(i)\n",
    "     else:\n",
    "       k.append(i)\n",
    "print(j)\n",
    "print(k)"
   ]
  },
  {
   "cell_type": "code",
   "execution_count": 68,
   "id": "ab1d372f-dc65-4a9a-bd2f-61ec3abdee1c",
   "metadata": {},
   "outputs": [
    {
     "data": {
      "text/plain": [
       "[39, 45, 66, 93, 90, 78, 67, 87, 89, 93, 25, 59, 9, 91]"
      ]
     },
     "execution_count": 68,
     "metadata": {},
     "output_type": "execute_result"
    }
   ],
   "source": [
    "num2=[39,45,66,93,90,78,67,87,89,93,25,59,9,91]\n",
    "num2"
   ]
  },
  {
   "cell_type": "code",
   "execution_count": 13,
   "id": "8b71e507-ece7-4a6e-98d3-97405606edb0",
   "metadata": {},
   "outputs": [
    {
     "data": {
      "text/plain": [
       "[31, 45, 66, 13, 10, 78, 67, 87, 81, 13, 25, 51, 1, 11]"
      ]
     },
     "execution_count": 13,
     "metadata": {},
     "output_type": "execute_result"
    }
   ],
   "source": [
    "num2=[39,45,66,93,90,78,67,87,89,93,25,59,9,91]\n",
    "h=[]\n",
    "for i in num2:\n",
    "    a=str(i)\n",
    "    b=a.replace('9','1')\n",
    "    c=int(b)\n",
    "    h.append(c)\n",
    "#print(h)\n",
    "h"
   ]
  },
  {
   "cell_type": "code",
   "execution_count": null,
   "id": "14fc95f7-a6c4-4db6-b7ad-d64baae46a8b",
   "metadata": {},
   "outputs": [],
   "source": []
  }
 ],
 "metadata": {
  "kernelspec": {
   "display_name": "Python [conda env:base] *",
   "language": "python",
   "name": "conda-base-py"
  },
  "language_info": {
   "codemirror_mode": {
    "name": "ipython",
    "version": 3
   },
   "file_extension": ".py",
   "mimetype": "text/x-python",
   "name": "python",
   "nbconvert_exporter": "python",
   "pygments_lexer": "ipython3",
   "version": "3.12.7"
  }
 },
 "nbformat": 4,
 "nbformat_minor": 5
}
