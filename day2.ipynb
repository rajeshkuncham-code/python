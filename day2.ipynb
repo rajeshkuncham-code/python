{
 "cells": [
  {
   "cell_type": "markdown",
   "id": "9e526718-5912-4f2d-8d3d-7c007152840f",
   "metadata": {},
   "source": [
    "### addition +\n",
    "### substraction -\n",
    "### multlipaction *\n",
    "### division /\n",
    "### remainder %\n",
    "### power **\n",
    "### // floor division"
   ]
  },
  {
   "cell_type": "code",
   "execution_count": 30,
   "id": "a8a8aa95-a54f-49de-8d9f-8bd575a4faed",
   "metadata": {},
   "outputs": [
    {
     "data": {
      "text/plain": [
       "57"
      ]
     },
     "execution_count": 30,
     "metadata": {},
     "output_type": "execute_result"
    }
   ],
   "source": [
    "a = 23\n",
    "b = 34\n",
    "a+b"
   ]
  },
  {
   "cell_type": "code",
   "execution_count": 32,
   "id": "d712079b-5b46-4e4a-9b89-ac1a87f1cdd4",
   "metadata": {},
   "outputs": [
    {
     "data": {
      "text/plain": [
       "False"
      ]
     },
     "execution_count": 32,
     "metadata": {},
     "output_type": "execute_result"
    }
   ],
   "source": [
    "23>34\n",
    "\n"
   ]
  },
  {
   "cell_type": "code",
   "execution_count": 34,
   "id": "d017cafc-1ed3-453a-a412-5526ff093334",
   "metadata": {},
   "outputs": [
    {
     "data": {
      "text/plain": [
       "False"
      ]
     },
     "execution_count": 34,
     "metadata": {},
     "output_type": "execute_result"
    }
   ],
   "source": [
    "34<24"
   ]
  },
  {
   "cell_type": "code",
   "execution_count": 40,
   "id": "30166289-3e7e-4531-a2d9-675166f014b0",
   "metadata": {},
   "outputs": [
    {
     "data": {
      "text/plain": [
       "782"
      ]
     },
     "execution_count": 40,
     "metadata": {},
     "output_type": "execute_result"
    }
   ],
   "source": [
    " 23*34\n",
    "\n"
   ]
  },
  {
   "cell_type": "code",
   "execution_count": 42,
   "id": "b443b2a5-10d0-4ce5-84b8-bf0477c250b3",
   "metadata": {},
   "outputs": [
    {
     "data": {
      "text/plain": [
       "-11"
      ]
     },
     "execution_count": 42,
     "metadata": {},
     "output_type": "execute_result"
    }
   ],
   "source": [
    " c = a-b\n",
    "c"
   ]
  },
  {
   "cell_type": "code",
   "execution_count": null,
   "id": "7592f364-8ddd-4279-aa35-4ba7b0bc5bb4",
   "metadata": {},
   "outputs": [],
   "source": [
    "a = 45\n",
    "b = 32\n"
   ]
  },
  {
   "cell_type": "code",
   "execution_count": 44,
   "id": "9628ece5-08a7-45d0-b6e7-6a39ff0fd493",
   "metadata": {},
   "outputs": [
    {
     "data": {
      "text/plain": [
       "False"
      ]
     },
     "execution_count": 44,
     "metadata": {},
     "output_type": "execute_result"
    }
   ],
   "source": [
    "a>b"
   ]
  },
  {
   "cell_type": "code",
   "execution_count": 46,
   "id": "9c925c16-b77e-4607-9da4-62cbc43d5ba4",
   "metadata": {},
   "outputs": [
    {
     "data": {
      "text/plain": [
       "True"
      ]
     },
     "execution_count": 46,
     "metadata": {},
     "output_type": "execute_result"
    }
   ],
   "source": [
    "a<b"
   ]
  },
  {
   "cell_type": "code",
   "execution_count": 48,
   "id": "db71e92f-44f5-4e15-a5ce-a667b71e6d75",
   "metadata": {},
   "outputs": [
    {
     "data": {
      "text/plain": [
       "False"
      ]
     },
     "execution_count": 48,
     "metadata": {},
     "output_type": "execute_result"
    }
   ],
   "source": [
    "a>=b"
   ]
  },
  {
   "cell_type": "code",
   "execution_count": 50,
   "id": "00325e7c-576a-40ac-a6a6-4ef85ae0c653",
   "metadata": {},
   "outputs": [
    {
     "data": {
      "text/plain": [
       "True"
      ]
     },
     "execution_count": 50,
     "metadata": {},
     "output_type": "execute_result"
    }
   ],
   "source": [
    "a<=b"
   ]
  },
  {
   "cell_type": "code",
   "execution_count": 52,
   "id": "672315a3-b01d-456a-b53a-b8b524f66b62",
   "metadata": {},
   "outputs": [
    {
     "data": {
      "text/plain": [
       "False"
      ]
     },
     "execution_count": 52,
     "metadata": {},
     "output_type": "execute_result"
    }
   ],
   "source": [
    "a==b"
   ]
  },
  {
   "cell_type": "code",
   "execution_count": 54,
   "id": "038a337b-31cb-4859-b218-4796fcf8ecca",
   "metadata": {},
   "outputs": [
    {
     "data": {
      "text/plain": [
       "True"
      ]
     },
     "execution_count": 54,
     "metadata": {},
     "output_type": "execute_result"
    }
   ],
   "source": [
    "a!=b"
   ]
  },
  {
   "cell_type": "code",
   "execution_count": 56,
   "id": "038a13aa-f3fa-4342-abb9-e4cae8ef824c",
   "metadata": {},
   "outputs": [
    {
     "data": {
      "text/plain": [
       "True"
      ]
     },
     "execution_count": 56,
     "metadata": {},
     "output_type": "execute_result"
    }
   ],
   "source": [
    "6==3*2"
   ]
  },
  {
   "cell_type": "code",
   "execution_count": 64,
   "id": "d9d98db3-c007-4af8-a3c9-87136f143c02",
   "metadata": {},
   "outputs": [],
   "source": [
    "d=8.4\n"
   ]
  },
  {
   "cell_type": "code",
   "execution_count": 66,
   "id": "05054388-13ec-4693-afbd-5500dec9abff",
   "metadata": {},
   "outputs": [
    {
     "data": {
      "text/plain": [
       "True"
      ]
     },
     "execution_count": 66,
     "metadata": {},
     "output_type": "execute_result"
    }
   ],
   "source": [
    "d>=8.1 or d<=9.0"
   ]
  },
  {
   "cell_type": "code",
   "execution_count": 68,
   "id": "db2be09a-8ccc-4320-81c6-f9b89eb37c99",
   "metadata": {},
   "outputs": [
    {
     "data": {
      "text/plain": [
       "True"
      ]
     },
     "execution_count": 68,
     "metadata": {},
     "output_type": "execute_result"
    }
   ],
   "source": [
    "d<=9.0"
   ]
  },
  {
   "cell_type": "code",
   "execution_count": 70,
   "id": "5baac2e9-e74e-4bbd-882e-31b59625c377",
   "metadata": {},
   "outputs": [
    {
     "data": {
      "text/plain": [
       "True"
      ]
     },
     "execution_count": 70,
     "metadata": {},
     "output_type": "execute_result"
    }
   ],
   "source": [
    "d>=8.4"
   ]
  },
  {
   "cell_type": "code",
   "execution_count": 72,
   "id": "9f89e60d-0444-4eb7-933e-43faae64c23f",
   "metadata": {},
   "outputs": [
    {
     "data": {
      "text/plain": [
       "True"
      ]
     },
     "execution_count": 72,
     "metadata": {},
     "output_type": "execute_result"
    }
   ],
   "source": [
    "d>=8.1 and d<=9.0"
   ]
  },
  {
   "cell_type": "code",
   "execution_count": null,
   "id": "3dd5cc3b-471f-4d84-903c-c8a0964550b3",
   "metadata": {},
   "outputs": [],
   "source": [
    "cgpa=floatinput('Enter CGPA')\n",
    "\n"
   ]
  },
  {
   "cell_type": "code",
   "execution_count": 90,
   "id": "3b420b81-f985-44a8-bca0-2aa2ff56e526",
   "metadata": {},
   "outputs": [
    {
     "data": {
      "text/plain": [
       "True"
      ]
     },
     "execution_count": 90,
     "metadata": {},
     "output_type": "execute_result"
    }
   ],
   "source": [
    "cgpa<=8.10 and cgpa<=9.00 # A Grade"
   ]
  },
  {
   "cell_type": "code",
   "execution_count": 92,
   "id": "c0da9fa0-cc23-4382-8a41-a96127a0305d",
   "metadata": {},
   "outputs": [
    {
     "data": {
      "text/plain": [
       "False"
      ]
     },
     "execution_count": 92,
     "metadata": {},
     "output_type": "execute_result"
    }
   ],
   "source": [
    "cgpa>=7.10 and cgpa<8 # B Grade"
   ]
  },
  {
   "cell_type": "code",
   "execution_count": 88,
   "id": "77190a15-c972-43a7-b897-9d9bd15128c3",
   "metadata": {},
   "outputs": [
    {
     "data": {
      "text/plain": [
       "False"
      ]
     },
     "execution_count": 88,
     "metadata": {},
     "output_type": "execute_result"
    }
   ],
   "source": [
    "cgpa>=5.1 and cgpa<6.0"
   ]
  },
  {
   "cell_type": "code",
   "execution_count": null,
   "id": "1c43b7c7-65d1-4778-92aa-bfd12e5670c8",
   "metadata": {},
   "outputs": [],
   "source": [
    "if else elif"
   ]
  }
 ],
 "metadata": {
  "kernelspec": {
   "display_name": "Python [conda env:base] *",
   "language": "python",
   "name": "conda-base-py"
  },
  "language_info": {
   "codemirror_mode": {
    "name": "ipython",
    "version": 3
   },
   "file_extension": ".py",
   "mimetype": "text/x-python",
   "name": "python",
   "nbconvert_exporter": "python",
   "pygments_lexer": "ipython3",
   "version": "3.12.7"
  }
 },
 "nbformat": 4,
 "nbformat_minor": 5
}
